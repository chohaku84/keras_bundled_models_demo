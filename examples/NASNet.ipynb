{
 "cells": [
  {
   "cell_type": "code",
   "execution_count": 6,
   "metadata": {
    "scrolled": false
   },
   "outputs": [],
   "source": [
    "import keras\n",
    "\n",
    "from keras.preprocessing import image\n",
    "from keras.applications.nasnet import preprocess_input,decode_predictions\n",
    "\n",
    "import matplotlib.pyplot as plt\n",
    "import cv2\n",
    "import os\n",
    "import numpy as np\n",
    "import time\n",
    "\n",
    "# The default input size for the NASNetLarge model is 331x331 and for the NASNetMobile model is 224x224.\n",
    "\n",
    "model_mobile = keras.applications.nasnet.NASNetMobile(input_shape=None, include_top=True, weights='imagenet', input_tensor=None, pooling=None, classes=1000)\n",
    "model = keras.applications.nasnet.NASNetLarge(input_shape=None, include_top=True, weights='imagenet', input_tensor=None, pooling=None, classes=1000)"
   ]
  },
  {
   "cell_type": "code",
   "execution_count": 16,
   "metadata": {},
   "outputs": [
    {
     "name": "stdout",
     "output_type": "stream",
     "text": [
      "Predicted: [[('n02085620', 'Chihuahua', 0.8557317), ('n02112706', 'Brabancon_griffon', 0.0044865254), ('n02086910', 'papillon', 0.0028887873), ('n02113978', 'Mexican_hairless', 0.0015653868), ('n02086079', 'Pekinese', 0.0014221801)]]\n",
      "Time elapsed: 8\n",
      "Predicted: [[('n02085620', 'Chihuahua', 0.93721265), ('n02112018', 'Pomeranian', 0.010850576), ('n02087046', 'toy_terrier', 0.0036809768), ('n02086079', 'Pekinese', 0.0033613693), ('n02086910', 'papillon', 0.0033360983)]]\n",
      "Time elapsed: 1\n"
     ]
    }
   ],
   "source": [
    "# NAS large\n",
    "img_path = '../dataset/dog/41757334_241490163193250_2916296499337466482_n.jpg'\n",
    "img = image.load_img(img_path, target_size=(331, 331))\n",
    "x = image.img_to_array(img)\n",
    "x = np.expand_dims(x, axis=0)\n",
    "x = preprocess_input(x)\n",
    "\n",
    "begin = time.clock()\n",
    "preds = model.predict(x)\n",
    "print('Predicted:', decode_predictions(preds))\n",
    "print ('Time elapsed: %.0f' % (time.clock() - begin))\n",
    "\n",
    "# NAS mobile\n",
    "img_path = '../dataset/dog/41757334_241490163193250_2916296499337466482_n.jpg'\n",
    "img = image.load_img(img_path, target_size=(224, 224))\n",
    "x = image.img_to_array(img)\n",
    "x = np.expand_dims(x, axis=0)\n",
    "x = preprocess_input(x)\n",
    "\n",
    "begin = time.clock()\n",
    "preds = model_mobile.predict(x)\n",
    "print('Predicted:', decode_predictions(preds))\n",
    "print ('Time elapsed: %.0f' % (time.clock() - begin))"
   ]
  },
  {
   "cell_type": "code",
   "execution_count": null,
   "metadata": {},
   "outputs": [],
   "source": []
  }
 ],
 "metadata": {
  "kernelspec": {
   "display_name": "Python 3",
   "language": "python",
   "name": "python3"
  },
  "language_info": {
   "codemirror_mode": {
    "name": "ipython",
    "version": 3
   },
   "file_extension": ".py",
   "mimetype": "text/x-python",
   "name": "python",
   "nbconvert_exporter": "python",
   "pygments_lexer": "ipython3",
   "version": "3.6.5"
  }
 },
 "nbformat": 4,
 "nbformat_minor": 2
}
