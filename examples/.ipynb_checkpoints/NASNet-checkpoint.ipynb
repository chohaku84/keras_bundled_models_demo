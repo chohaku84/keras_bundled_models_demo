{
 "cells": [
  {
   "cell_type": "code",
   "execution_count": 6,
   "metadata": {
    "scrolled": false
   },
   "outputs": [],
   "source": [
    "import keras\n",
    "\n",
    "from keras.preprocessing import image\n",
    "from keras.applications.nasnet import preprocess_input,decode_predictions\n",
    "\n",
    "import matplotlib.pyplot as plt\n",
    "import cv2\n",
    "import os\n",
    "import numpy as np\n",
    "import time\n",
    "\n",
    "# The default input size for the NASNetLarge model is 331x331 and for the NASNetMobile model is 224x224.\n",
    "\n",
    "model_mobile = keras.applications.nasnet.NASNetMobile(input_shape=None, include_top=True, weights='imagenet', input_tensor=None, pooling=None, classes=1000)\n",
    "model = keras.applications.nasnet.NASNetLarge(input_shape=None, include_top=True, weights='imagenet', input_tensor=None, pooling=None, classes=1000)"
   ]
  },
  {
   "cell_type": "code",
   "execution_count": 13,
   "metadata": {},
   "outputs": [
    {
     "name": "stdout",
     "output_type": "stream",
     "text": [
      "Predicted: [[('n02091244', 'Ibizan_hound', 0.9123568), ('n02110806', 'basenji', 0.001195352), ('n02115641', 'dingo', 0.00093550456), ('n02089973', 'English_foxhound', 0.0007531266), ('n02105412', 'kelpie', 0.000522376)]]\n",
      "Time elapsed: 8\n",
      "Predicted: [[('n02091244', 'Ibizan_hound', 0.8453017), ('n02115641', 'dingo', 0.017750561), ('n02110806', 'basenji', 0.015048982), ('n02105412', 'kelpie', 0.0018479096), ('n01682714', 'American_chameleon', 0.0010028273)]]\n",
      "Time elapsed: 1\n"
     ]
    }
   ],
   "source": [
    "# NAS large\n",
    "img_path = '../dataset/dog/pekinese/n02086079_952.jpg'\n",
    "img = image.load_img(img_path, target_size=(331, 331))\n",
    "x = image.img_to_array(img)\n",
    "x = np.expand_dims(x, axis=0)\n",
    "x = preprocess_input(x)\n",
    "\n",
    "begin = time.clock()\n",
    "preds = model.predict(x)\n",
    "print('Predicted:', decode_predictions(preds))\n",
    "print ('Time elapsed: %.0f' % (time.clock() - begin))\n",
    "\n",
    "# NAS mobile\n",
    "img_path = '../dataset/dog/pekinese/n02086079_952.jpg'\n",
    "img = image.load_img(img_path, target_size=(224, 224))\n",
    "x = image.img_to_array(img)\n",
    "x = np.expand_dims(x, axis=0)\n",
    "x = preprocess_input(x)\n",
    "\n",
    "begin = time.clock()\n",
    "preds = model_mobile.predict(x)\n",
    "print('Predicted:', decode_predictions(preds))\n",
    "print ('Time elapsed: %.0f' % (time.clock() - begin))"
   ]
  },
  {
   "cell_type": "code",
   "execution_count": null,
   "metadata": {},
   "outputs": [],
   "source": []
  }
 ],
 "metadata": {
  "kernelspec": {
   "display_name": "Python 3",
   "language": "python",
   "name": "python3"
  },
  "language_info": {
   "codemirror_mode": {
    "name": "ipython",
    "version": 3
   },
   "file_extension": ".py",
   "mimetype": "text/x-python",
   "name": "python",
   "nbconvert_exporter": "python",
   "pygments_lexer": "ipython3",
   "version": "3.6.5"
  }
 },
 "nbformat": 4,
 "nbformat_minor": 2
}
